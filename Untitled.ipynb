{
 "cells": [
  {
   "cell_type": "code",
   "execution_count": 97,
   "id": "46b2cbac",
   "metadata": {},
   "outputs": [],
   "source": [
    "import matplotlib.pyplot as plt\n",
    "import numpy as np\n",
    "from astropy.coordinates import EarthLocation\n",
    "from astropy.time import Time\n",
    "from datetime import datetime, timedelta\n",
    "import pandas as pd\n",
    "\n",
    "star_path='./bsc.tsv'\n",
    "\n",
    "#read_data는 list 주소를 받아 별들의 좌표와 HR 번호에 대응되는 별 이름을 출력한다.\n",
    "def read_data(path):\n",
    "    coor=[]\n",
    "    data=pd.read_csv(path,delimiter=\"\\t\")\n",
    "    data=np.array(data)\n",
    "    star_name=[' ']*10000\n",
    "    for i in data:\n",
    "        l=len(i[3].split(' '))\n",
    "        if l==3:\n",
    "            number,name,_,mag,spec=int(i[0]),i[1],i[2],float(i[5]),i[6]\n",
    "            ra_h,ra_m,ra_s=map(float,i[3].split())\n",
    "            dec_d,dec_m,dec_s=map(float,i[4][1:].split())\n",
    "            ra=ra_h*15.+ra_m*0.25+ra_s/240.\n",
    "            dec=dec_d+dec_m/60.+dec_s/3600.\n",
    "            if i[4][0]=='-':\n",
    "                dec*=-1\n",
    "            coor.append([ra,dec,mag,number])\n",
    "            star_name[number]=name\n",
    "    return np.array(coor),star_name\n",
    "\n",
    "data,name=read_data(star_path)\n",
    "#sidereal 함수는 location, UT time을 받으면 sidereal time을 출력해준다. \n",
    "def sidereal(lat,lon,time,timezone):\n",
    "    ut=timedelta(hours=timezone)\n",
    "    obs_site=EarthLocation(lat=lat*u.deg,lon=lon*u.deg)\n",
    "    obs_time=Time(time-ut,scale='utc',location=obs_site)\n",
    "    LST=obs_time.sidereal_time('mean')\n",
    "    return LST.hour\n",
    "\n",
    "def riseset(location,data):\n",
    "    lat,lon,time,timezone=location[0],location[1],location[2],location[3]\n",
    "    \n",
    "    return "
   ]
  },
  {
   "cell_type": "code",
   "execution_count": 98,
   "id": "e494c41e",
   "metadata": {},
   "outputs": [
    {
     "name": "stdout",
     "output_type": "stream",
     "text": [
      "[[ 1.29125000e+00  4.52291667e+01  6.70000000e+00  1.00000000e+00]\n",
      " [ 1.26583333e+00 -5.03055556e-01  6.29000000e+00  2.00000000e+00]\n",
      " [ 1.33375000e+00 -5.70750000e+00  4.61000000e+00  3.00000000e+00]\n",
      " ...\n",
      " [ 1.17208333e+00 -7.14369444e+01  5.59000000e+00  9.10800000e+03]\n",
      " [ 1.23333333e+00  2.66488889e+01  6.25000000e+00  9.10900000e+03]\n",
      " [ 1.27583333e+00  6.13141667e+01  5.80000000e+00  9.11000000e+03]]\n"
     ]
    }
   ],
   "source": [
    "print(data)"
   ]
  }
 ],
 "metadata": {
  "kernelspec": {
   "display_name": "Python 3 (ipykernel)",
   "language": "python",
   "name": "python3"
  },
  "language_info": {
   "codemirror_mode": {
    "name": "ipython",
    "version": 3
   },
   "file_extension": ".py",
   "mimetype": "text/x-python",
   "name": "python",
   "nbconvert_exporter": "python",
   "pygments_lexer": "ipython3",
   "version": "3.9.12"
  }
 },
 "nbformat": 4,
 "nbformat_minor": 5
}
